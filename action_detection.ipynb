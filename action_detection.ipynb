{
  "nbformat": 4,
  "nbformat_minor": 0,
  "metadata": {
    "colab": {
      "name": "action_detection.ipynb",
      "provenance": [],
      "collapsed_sections": []
    },
    "kernelspec": {
      "name": "python3",
      "display_name": "Python 3"
    },
    "language_info": {
      "name": "python"
    }
  },
  "cells": [
    {
      "cell_type": "code",
      "execution_count": null,
      "metadata": {
        "id": "jFDDKjxFySva"
      },
      "outputs": [],
      "source": [
        "import cv2\n",
        "import numpy as np\n",
        "import os\n",
        "from matplotlib import pyplot as plt\n",
        "import time\n",
        "import mediapipe as mp\n",
        "print(\"imported successfully\")"
      ]
    },
    {
      "cell_type": "markdown",
      "source": [
        "Keypoints using MP Holistic"
      ],
      "metadata": {
        "id": "dG_keIBcyr0R"
      }
    },
    {
      "cell_type": "code",
      "source": [
        "mp_holistic = mp.solutions.holistic # Holistic model\n",
        "mp_drawing = mp.solutions.drawing_utils # Drawing utilities"
      ],
      "metadata": {
        "id": "lFjCpXdLyvN5"
      },
      "execution_count": null,
      "outputs": []
    },
    {
      "cell_type": "code",
      "source": [
        "def mediapipe_detection(image, model):\n",
        "    image = cv2.cvtColor(image, cv2.COLOR_BGR2RGB) # color convrsn BGR 2 RGB\n",
        "    image.flags.writeable = False                  # Image isn't writeable\n",
        "    results = model.process(image)                 # prediction\n",
        "    image.flags.writeable = True                   # Image -> writeable  \n",
        "    image = cv2.cvtColor(image, cv2.COLOR_RGB2BGR) # color convrsn RGB 2 BGR\n",
        "    return image, results"
      ],
      "metadata": {
        "id": "GWyF5c4wyw3R"
      },
      "execution_count": null,
      "outputs": []
    },
    {
      "cell_type": "code",
      "source": [
        "def draw_landmarks(image, results):\n",
        "    mp_drawing.draw_landmarks(image, results.face_landmarks, mp_holistic.FACE_CONNECTIONS) # Draw face connections\n",
        "    mp_drawing.draw_landmarks(image, results.pose_landmarks, mp_holistic.POSE_CONNECTIONS) # Draw pose connections\n",
        "    mp_drawing.draw_landmarks(image, results.left_hand_landmarks, mp_holistic.HAND_CONNECTIONS) # Draw left hand connections\n",
        "    mp_drawing.draw_landmarks(image, results.right_hand_landmarks, mp_holistic.HAND_CONNECTIONS) # Draw right hand connections"
      ],
      "metadata": {
        "id": "sO50ZT8Yyy1g"
      },
      "execution_count": null,
      "outputs": []
    },
    {
      "cell_type": "code",
      "source": [
        "def draw_styled_landmarks(image, results):      # formatting landmarks\n",
        "    # Draw face connections\n",
        "    mp_drawing.draw_landmarks(image, results.face_landmarks, mp_holistic.FACE_CONNECTIONS, \n",
        "                             mp_drawing.DrawingSpec(color=(80,110,10), thickness=1, circle_radius=1), \n",
        "                             mp_drawing.DrawingSpec(color=(80,256,121), thickness=1, circle_radius=1)\n",
        "                             ) \n",
        "    # Draw pose connections\n",
        "    mp_drawing.draw_landmarks(image, results.pose_landmarks, mp_holistic.POSE_CONNECTIONS,\n",
        "                             mp_drawing.DrawingSpec(color=(80,22,10), thickness=2, circle_radius=4), \n",
        "                             mp_drawing.DrawingSpec(color=(80,44,121), thickness=2, circle_radius=2)\n",
        "                             ) \n",
        "    # Draw left hand connections\n",
        "    mp_drawing.draw_landmarks(image, results.left_hand_landmarks, mp_holistic.HAND_CONNECTIONS, \n",
        "                             mp_drawing.DrawingSpec(color=(121,22,76), thickness=2, circle_radius=4), \n",
        "                             mp_drawing.DrawingSpec(color=(121,44,250), thickness=2, circle_radius=2)\n",
        "                             ) \n",
        "    # Draw right hand connections  \n",
        "    mp_drawing.draw_landmarks(image, results.right_hand_landmarks, mp_holistic.HAND_CONNECTIONS, \n",
        "                             mp_drawing.DrawingSpec(color=(245,117,66), thickness=2, circle_radius=4), \n",
        "                             mp_drawing.DrawingSpec(color=(245,66,230), thickness=2, circle_radius=2)\n",
        "                             ) "
      ],
      "metadata": {
        "id": "-PF5Wt5Ay1cS"
      },
      "execution_count": null,
      "outputs": []
    },
    {
      "cell_type": "code",
      "source": [
        "cap = cv2.VideoCapture(0)\n",
        "# Set mediapipe model \n",
        "with mp_holistic.Holistic(min_detection_confidence=0.5, min_tracking_confidence=0.5) as holistic:\n",
        "    while cap.isOpened():\n",
        "\n",
        "        # input\n",
        "        ret, frame = cap.read()\n",
        "\n",
        "        # detections\n",
        "        image, results = mediapipe_detection(frame, holistic)\n",
        "        print(results)\n",
        "        \n",
        "        # landmarks\n",
        "        draw_styled_landmarks(image, results)\n",
        "\n",
        "        # Show to screen\n",
        "        cv2.imshow('OpenCV Feed', image)\n",
        "\n",
        "        # quit\n",
        "        if cv2.waitKey(10) & 0xFF == ord('q'):\n",
        "            break\n",
        "    cap.release()\n",
        "    cv2.destroyAllWindows()"
      ],
      "metadata": {
        "id": "vDtQYriOy3OZ"
      },
      "execution_count": null,
      "outputs": []
    },
    {
      "cell_type": "code",
      "source": [
        "len(results.pose_landmarks.landmark)"
      ],
      "metadata": {
        "id": "CS4r5uAly9w-"
      },
      "execution_count": null,
      "outputs": []
    },
    {
      "cell_type": "code",
      "source": [
        "results"
      ],
      "metadata": {
        "id": "2ZGESIXXzCIO"
      },
      "execution_count": null,
      "outputs": []
    },
    {
      "cell_type": "code",
      "source": [
        "draw_landmarks(frame, results)"
      ],
      "metadata": {
        "id": "IACH_eqXzCd-"
      },
      "execution_count": null,
      "outputs": []
    },
    {
      "cell_type": "code",
      "source": [
        "plt.imshow(cv2.cvtColor(frame, cv2.COLOR_BGR2RGB))"
      ],
      "metadata": {
        "id": "yGTqizI8zDkG"
      },
      "execution_count": null,
      "outputs": []
    },
    {
      "cell_type": "markdown",
      "source": [
        "![Screenshot 2022-07-14 183236.jpg](data:image/jpeg;base64,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)"
      ],
      "metadata": {
        "id": "QRTtpPUhzYip"
      }
    },
    {
      "cell_type": "markdown",
      "source": [
        "Extract Keypoint Values"
      ],
      "metadata": {
        "id": "VFqchlnGzqJY"
      }
    },
    {
      "cell_type": "code",
      "source": [
        "def extract_keypoints(results):\n",
        "    pose = np.array([[res.x, res.y, res.z, res.visibility] for res in results.pose_landmarks.landmark]).flatten() if results.pose_landmarks else np.zeros(33*4)\n",
        "    face = np.array([[res.x, res.y, res.z] for res in results.face_landmarks.landmark]).flatten() if results.face_landmarks else np.zeros(468*3)\n",
        "    lh = np.array([[res.x, res.y, res.z] for res in results.left_hand_landmarks.landmark]).flatten() if results.left_hand_landmarks else np.zeros(21*3)\n",
        "    rh = np.array([[res.x, res.y, res.z] for res in results.right_hand_landmarks.landmark]).flatten() if results.right_hand_landmarks else np.zeros(21*3)\n",
        "    return np.concatenate([pose, face, lh, rh])"
      ],
      "metadata": {
        "id": "RM3_UL4UzqxY"
      },
      "execution_count": null,
      "outputs": []
    },
    {
      "cell_type": "code",
      "source": [
        "result_test = extract_keypoints(results)"
      ],
      "metadata": {
        "id": "s8LVvXRdzwBI"
      },
      "execution_count": null,
      "outputs": []
    },
    {
      "cell_type": "code",
      "source": [
        "result_test"
      ],
      "metadata": {
        "id": "Zs651buSzy_I"
      },
      "execution_count": null,
      "outputs": []
    },
    {
      "cell_type": "code",
      "source": [
        "np.save('0', result_test)"
      ],
      "metadata": {
        "id": "z9KmUu1NzzfY"
      },
      "execution_count": null,
      "outputs": []
    },
    {
      "cell_type": "code",
      "source": [
        "np.load('0.npy')    #loading the extracted keypoints"
      ],
      "metadata": {
        "id": "3UlMilLPz0rA"
      },
      "execution_count": null,
      "outputs": []
    },
    {
      "cell_type": "markdown",
      "source": [
        "Setup Folders for Collection"
      ],
      "metadata": {
        "id": "q4kNy70Az-7X"
      }
    },
    {
      "cell_type": "code",
      "source": [
        "# Path for exported data, numpy arrays\n",
        "DATA_PATH = os.path.join('MP_Data') \n",
        "\n",
        "# Actions \n",
        "actions = np.array(['signature', 'loan', 'thankyou'])\n",
        "\n",
        "# Thirty videos\n",
        "no_sequences = 30\n",
        "\n",
        "# Videos -30 frames \n",
        "sequence_length = 30"
      ],
      "metadata": {
        "id": "82Sb5kXC0ACo"
      },
      "execution_count": null,
      "outputs": []
    },
    {
      "cell_type": "code",
      "source": [
        "for action in actions: \n",
        "    for sequence in range(no_sequences):\n",
        "        try: \n",
        "            os.makedirs(os.path.join(DATA_PATH, action, str(sequence)))\n",
        "        except:\n",
        "            pass"
      ],
      "metadata": {
        "id": "gdDFfOp60BaY"
      },
      "execution_count": null,
      "outputs": []
    },
    {
      "cell_type": "markdown",
      "source": [
        "Collect Keypoint Values for Training and Testing"
      ],
      "metadata": {
        "id": "by3kl5-E0DKx"
      }
    },
    {
      "cell_type": "code",
      "source": [
        "cap = cv2.VideoCapture(0)\n",
        "\n",
        "with mp_holistic.Holistic(min_detection_confidence=0.5, min_tracking_confidence=0.5) as holistic:\n",
        "    \n",
        "    for action in actions:\n",
        "        # Loop through videos\n",
        "        for sequence in range(no_sequences):\n",
        "            # Loop through video length \n",
        "            for frame_num in range(sequence_length):\n",
        "\n",
        "                ret, frame = cap.read()\n",
        "\n",
        "                image, results = mediapipe_detection(frame, holistic)             \n",
        "\n",
        "                draw_styled_landmarks(image, results)\n",
        "                \n",
        "                # collection  breaks - wait logic\n",
        "                if frame_num == 0: \n",
        "                    cv2.putText(image, 'STARTING COLLECTION', (120,200), \n",
        "                               cv2.FONT_HERSHEY_SIMPLEX, 1, (0,255, 0), 4, cv2.LINE_AA)\n",
        "                    cv2.putText(image, 'Collecting frames for {} Video Number {}'.format(action, sequence), (15,12), \n",
        "                               cv2.FONT_HERSHEY_SIMPLEX, 0.5, (0, 0, 255), 1, cv2.LINE_AA)\n",
        "                    # Show to screen\n",
        "                    cv2.imshow('OpenCV Feed', image)\n",
        "                    cv2.waitKey(2000)  # 2 sec\n",
        "                else: \n",
        "                    cv2.putText(image, 'Collecting frames for {} Video Number {}'.format(action, sequence), (15,12), \n",
        "                               cv2.FONT_HERSHEY_SIMPLEX, 0.5, (0, 0, 255), 1, cv2.LINE_AA)\n",
        "                    # on screen\n",
        "                    cv2.imshow('OpenCV Feed', image)\n",
        "                \n",
        "                # export keypoints\n",
        "                keypoints = extract_keypoints(results)\n",
        "                npy_path = os.path.join(DATA_PATH, action, str(sequence), str(frame_num))\n",
        "                np.save(npy_path, keypoints)\n",
        "\n",
        "                if cv2.waitKey(10) & 0xFF == ord('q'):\n",
        "                    break\n",
        "                    \n",
        "    cap.release()\n",
        "    cv2.destroyAllWindows()"
      ],
      "metadata": {
        "id": "o-Wl8f-N0Eno"
      },
      "execution_count": null,
      "outputs": []
    },
    {
      "cell_type": "code",
      "source": [
        "cap.release()\n",
        "cv2.destroyAllWindows()"
      ],
      "metadata": {
        "id": "Eh3HKWeL0GdI"
      },
      "execution_count": null,
      "outputs": []
    },
    {
      "cell_type": "markdown",
      "source": [
        "Preprocess Data and Create Labels and Features"
      ],
      "metadata": {
        "id": "ubCVys2-0Iow"
      }
    },
    {
      "cell_type": "code",
      "source": [
        "from sklearn.model_selection import train_test_split\n",
        "from tensorflow.keras.utils import to_categorical"
      ],
      "metadata": {
        "id": "MTr92sdo0JxC"
      },
      "execution_count": null,
      "outputs": []
    },
    {
      "cell_type": "code",
      "source": [
        "label_map = {label:num for num, label in enumerate(actions)}"
      ],
      "metadata": {
        "id": "ZyMI_0NS0K_3"
      },
      "execution_count": null,
      "outputs": []
    },
    {
      "cell_type": "code",
      "source": [
        "sequences, labels = [], []\n",
        "for action in actions:\n",
        "    for sequence in range(no_sequences):\n",
        "        window = []\n",
        "        for frame_num in range(sequence_length):\n",
        "            res = np.load(os.path.join(DATA_PATH, action, str(sequence), \"{}.npy\".format(frame_num)))\n",
        "            window.append(res)\n",
        "        sequences.append(window)\n",
        "        labels.append(label_map[action])"
      ],
      "metadata": {
        "id": "uHMwag9q0MCw"
      },
      "execution_count": null,
      "outputs": []
    },
    {
      "cell_type": "code",
      "source": [
        "np.array(sequences).shape # (90, 30, 1662)"
      ],
      "metadata": {
        "id": "yvg81PwD0Nbw"
      },
      "execution_count": null,
      "outputs": []
    },
    {
      "cell_type": "code",
      "source": [
        "np.array(labels).shape # 90"
      ],
      "metadata": {
        "id": "sn_vnEZd0OsI"
      },
      "execution_count": null,
      "outputs": []
    },
    {
      "cell_type": "code",
      "source": [
        "X = np.array(sequences)  # X = np.array(sequences) -> (90, 30, 1662)"
      ],
      "metadata": {
        "id": "rXJtjyzR0QEg"
      },
      "execution_count": null,
      "outputs": []
    },
    {
      "cell_type": "code",
      "source": [
        "y = to_categorical(labels).astype(int)"
      ],
      "metadata": {
        "id": "q58meQKV0RRg"
      },
      "execution_count": null,
      "outputs": []
    },
    {
      "cell_type": "code",
      "source": [
        "X_train, X_test, y_train, y_test = train_test_split(X, y, test_size=0.10, random_state=1)"
      ],
      "metadata": {
        "id": "kwKSdvHR0do4"
      },
      "execution_count": null,
      "outputs": []
    },
    {
      "cell_type": "code",
      "source": [
        "X_train, X_val, y_train, y_val = train_test_split(X_train, y_train, test_size=0.10, random_state=1)"
      ],
      "metadata": {
        "id": "JZJkc1Oo0eIg"
      },
      "execution_count": null,
      "outputs": []
    },
    {
      "cell_type": "code",
      "source": [
        "train_ratio = 0.8\n",
        "validation_ratio = 0.10\n",
        "test_ratio = 0.10\n",
        "\n",
        "# train is now 75% of the entire data set\n",
        "# the _junk suffix means that we drop that variable completely\n",
        "X_train, X_test, y_train, y_test = train_test_split(X, y, test_size=1 - train_ratio)\n",
        "\n",
        "# test is now 10% of the initial data set\n",
        "# validation is now 15% of the initial data set\n",
        "X_val, X_test, y_val, y_test = train_test_split(X_test, y_test, test_size=test_ratio/(test_ratio + validation_ratio)) "
      ],
      "metadata": {
        "id": "887hnSng0kAg"
      },
      "execution_count": null,
      "outputs": []
    },
    {
      "cell_type": "markdown",
      "source": [
        "Build and Train LSTM Neural Network"
      ],
      "metadata": {
        "id": "VrdRYXZd0sNw"
      }
    },
    {
      "cell_type": "code",
      "source": [
        "from tensorflow.keras.models import Sequential\n",
        "from tensorflow.keras.layers import LSTM, Dense\n",
        "from tensorflow.keras.callbacks import TensorBoard"
      ],
      "metadata": {
        "id": "NhMdNFy10s_A"
      },
      "execution_count": null,
      "outputs": []
    },
    {
      "cell_type": "code",
      "source": [
        "log_dir = os.path.join('Logs')\n",
        "tb_callback = TensorBoard(log_dir=log_dir)"
      ],
      "metadata": {
        "id": "JjmM0F1r0uFA"
      },
      "execution_count": null,
      "outputs": []
    },
    {
      "cell_type": "code",
      "source": [
        "model = Sequential()\n",
        "model.add(LSTM(64, return_sequences=True, activation='relu', input_shape=(30,1662)))\n",
        "model.add(LSTM(128, return_sequences=True, activation='relu'))\n",
        "model.add(LSTM(64, return_sequences=False, activation='relu'))\n",
        "model.add(Dense(64, activation='relu'))\n",
        "model.add(Dense(32, activation='relu'))\n",
        "model.add(Dense(actions.shape[0], activation='softmax'))"
      ],
      "metadata": {
        "id": "j92ZKg7y0vOg"
      },
      "execution_count": null,
      "outputs": []
    },
    {
      "cell_type": "code",
      "source": [
        "model.compile(optimizer='Adam', loss='categorical_crossentropy', metrics=['categorical_accuracy'])"
      ],
      "metadata": {
        "id": "RMn047uU0wpR"
      },
      "execution_count": null,
      "outputs": []
    },
    {
      "cell_type": "code",
      "source": [
        "model.fit(X_train, y_train, epochs=2000, callbacks=[tb_callback])"
      ],
      "metadata": {
        "id": "QK5kLQ8f0x1Y"
      },
      "execution_count": null,
      "outputs": []
    },
    {
      "cell_type": "code",
      "source": [
        "model.summary()"
      ],
      "metadata": {
        "id": "k6V5n9Fw015g"
      },
      "execution_count": null,
      "outputs": []
    },
    {
      "cell_type": "markdown",
      "source": [
        "![image.png](data:image/png;base64,iVBORw0KGgoAAAANSUhEUgAAAogAAAGiCAYAAABkljd3AAAAAXNSR0IArs4c6QAAAARnQU1BAACxjwv8YQUAAAAJcEhZcwAADsMAAA7DAcdvqGQAAFbySURBVHhe7d3PSxzZ+vjxZ77zNwgOKCRusnEThyBK4N7N/TQKcWPHxd0GmQQno9LbIYuQbWObKDJItneRtIsYUPrezb0wRGRIu3GTjQQUIuPfMPg959Sp6nOqq7ur+oe27fsFlXR1l1XV3afqPOc8p6q/u1QEAAAAsP6f/R8AAAAwCBABAADgIUAEAACAhwARAAAAHgJEAAAAeAgQAQAA4CFABAAAgIcAEQAAAJ4+ChCrsjk2JptHdjali4/PZEz9XTA9k91z+0IPVN842zjaNNvMur+DLvw+nn28sM9kZD/XcOrp52u3FexrUP7G3lSD1wAAuMWyBYjnu/KsrhK9kN2fdWW+qarYqzf0aEtOTk7k5FNJcva5Xhm90+st9DETTF3Bd3x/Kfg+T8pSsE+1xwZ80ZSw7z+M9rzMAABwE2XvQZzNSW7toFbZnh/IvqpmqWihhQH71qMh+8x10I2WvByvH9pg80TKq0XJ/7yrXgEAAK20kWKekRlV2R7Y1N/FH/synpsJZgbc0Mi4+ndcRobVf6b3KSejP5iX0FeGZG7DD1InHhZE9vblwB2CMDyivk31jY7o5UZldFYkd2fUvAQAwG2WLUD8dioV9d+UqmyLv+s+xAs5qIzL1AP94rGcOZVvMF7PmRLGdvnL5KVon3fF19P+mLQwFd7BOEWT/lySCf14eE62TrZkTgeLnnhqM2k8Xor0Z5jOdyenBywY6+f/nXku3ksWX0/s9ehvvLF/tc8oGuM5r7+douSjZWLvK+XYwWh94XStY/4mZOnkRJbu68f1QSUAALdVexep3J+Sgk4z6/TyvakgYHLooC7/pSSHNr1nxpOt5b1gIHEZ+1qobplPJTme7+cLQ+pTm3rygw4dHPrLHK4fq8DLCfZ0UDe9IuM7tXUcrreRxE9YT/neikzGg8g99dzb0ehzLq9WZOVVsEw0xnNHfzsFKdtl9OS9rzRjB1UQ+UJeRn9vxo2qctH2BS0ZVH9XAe7sjEzVBfQAACCuvQBRhYRTq0XZfrUv4w9VeGhTdYYKSrbXVCjxZE6cBJ8s6QAjHLtolslJ6Vd3mZikZYbnZHFVbO9lVkEP0Ulir193VSoHfgDmuPi4LcXZkrx0gquhR4sqqKql7avvV6SyWrY9W+1LWs/EYxWUxVOtOvDbqH3OPbsYRwWRXlA5PCUzs/ZxD+ley3xdmQQAAI1kChAvzo7to2BMV2VvXKai4KMip9/sw4Zj82wa2qSq7Vi+piqyMu2kI9WkK/r+pYPQQynJikyG+xzvrdN0j53znvz0+oWcfeniWDjdc+tua1oFjfalqxdPrU/Kyp59qUd0cDi5XJHCTphKBgAArbTZg6i44/FScy/w8McsJstJ6ZNNR7rT82xbvVphT6WebLAYDxJn3dR6bQrHwo3cU6Hx11OzaMdWy3XbuYpe1HpB+r3o7Y/6fHrYg0hwCABAe7IHiPdGmqfpTNqwNoYtUJXN+aLk1heCgNKkpCuy/0e4RDAuz7tIJXE9nejCRSqZDclUzk/XDj2YkdzeirxoMu7OpHjXtr0LRXSg4wquqK4F2UnLmCt31/LdGbNpgvpaGrwbLj6+6FkPIsEhAADtyxQgnn5Nk5xMSLPaizJq488mZOlTSWR50r6+LaOf4r1JSesJplrAEwZ9ajKp01pK+ioufKgXT6GOqSBl3BvfZ65+9t57ONUuUtEXhpgLRex7mfy6WH+Ryv0lf5nKjByaC0kcupdXPVecd7ejpqS0dytqv1+qfXDX5X7GtavNg0A/Wi66MEl9n0+CgDX8e/2+yqv2Zav1etKoyjsbLHflvQMAcMt8d6nYx+hjpkdMB4FusAkAANAD7Y9BBAAAwEAiQMTNoe/r6KaLk6ZrvfE2AACDgRQzAAAAPPQgAgAAwEOACAAAAA8BIgAAADwEiAAAAPAQIAIAAMBDgAgAAAAPASIAAAA8BIgAAADwECACAADAQ4AIAAAADwEiAAAAPASIAAAA8BAgAgAAwEOACAAAAA8BIgAAADwEiAAAAPAQIAIAAMBDgAgAAADPd5eKfdzS5tiYFO3jRLO/yE97r+U3O5vo7/+Uv/33X/I/O5voyXPJvX0jFTubqEvL/PWPH+X7/3y2c8l++iUnv71uuqWuLbPwWOTdezuTKCe/PKnI67d2NlG3lvlR/u+vz/Lv7+1skjTfebeWucKyQ7mws4lub7not7JDuWiCusbOJbu1Zadb5WK1LCfPJ+zMYMoUIAIAAGDwkWIGAACAhwARAAAAHgJEAAAAeAgQAQAA4CFATFSVzbFnsntuZ/vUxcdnMvamaucAAAC6gwCxzoXs/pyX4uqizA3bp/rU0KNFKazl5dnHC/sMgL5wtCljN6CRCQCNZA8Qz3fl2QCf+KpvJmVFSnKYeH8jHTyO9VFANiFLn0oiy5OyeWSfAq6Q6cUeG4umto8NE1BtylX0h5t9/nlXHc2dqb6pve9gupr9B1Ixx9SAllEdh4THsIlJOPZ6gR5Elypo22sihSdzMmSf6nvDc7K4KlJ823mFB2ShA6TJ5XEpn5zIiZ5sY2Xwe7SDhmL+i2pIhu/dTEuqyQb0k5yUPtXKaHm1KPlB6OD5dlq7ibX7GF1FgOiovl+RymxJFu7bJ26Iicclye2tyDt6EXFVTGNKVz5OUKQaK1s7Baksvxvs1vz5gezv3bCGJKBMPC+LOkJl/48BaMTdG6kdf7OjMmofont6FiDGU0/uxRTBa/WtmCBl43cVx9M48VSqeV2v23Qzh8u10918IWdfVHsrN5Vw0tcXrej1TsqKqhgqy5PR/tS2FfQq1Keu7N+G7z9MpXn7W/++/PejpmYpseEpmZkVOT6jDxFX4+KPfVXNjMtIfJzuD6OSk6IcmPJsjwnvQip/mEZ0npjXP+KpezdqZb7WE1n7G+984B0TwXHm914Gz4XHVvi3k8sVEdWgmgzX4yyTyvCIeucpe+2/tTjOo3NLOMXOi704X+DWGx9xarl42YnXn+b1oFy6x19dpqDpenQ5V+s4CpeJPU7boxluQ58v1vLBdvRjezzX7RM6o39qL5NvHy6f3n16+eGbnU9S3bh8uvunnVHM39x1nvt8ueHNa8FzG1U7q3x+fffy7tKHy2gpu566ZdRzd+9uqDVof15+WFLzr4O59Oq3Xy9Yt7/fDvW+78Y/G/NcuG+Kmdf7W1vuz92n/jKN3qf7WcSY1zO/Z6A9pswmlkf3OEo6FhscQ/HjxGPXo4+baF3xc0i6c4rWeN8zsMeof+5xRMd57bX67er35f9tcD5znuvR+QK3gCk7fn1UV77Uo426MhkrO05Zj46vunW3Wk9wLAbbDo9n/ffB44Z1agP6fYR/Q93XO73pQby/JFuPnBaK7eGqmZCF9ZxUKge1Vu7RgRTd9K5qKZgU1q9OGiccb/e7175RClKOxv8MyVQuJ/LlLFsL+vxMju3Dtt1fkNKs331f/b0oufWF2NgknZrbiq6SNlcjR70u6m90qnu1LEtOqjtII+/LQbOWVtb3DNwk3o/jJ5xDrpJOp+txXZ/UcRn2fNb12vkp+KGRcZG9Uzm18/pcNbfhj1uceFiwj1w9Ol/gFqjIyrTupQumvKhjyBsrOyFLG+5QCVt/JsitH9bq9ftTJlV9+i2YTbsety7Mrb9s804hQbYv6AW1mb87JJh7oUcp5njaJEjNusxJLho3dyG7b1UgVZfe9Qu3KeBr9iVXbPzB0KMtOfEKawo2bdQZdcJ/4ozBskHuzIN0e+KliMPu83CaVpWAfakhd0wG0GtesGOZhlZORn+w872WtA9XyQ0U1fnsRcYUV91QHJNqT6fj8wVuAd24qF2kUmtg1cSHcZkhGAm8tLQOCNX63EZJ2vV0IthGEE8U52uPg2FfGVLVSKUHAaIeL6TvI6hbKmHBPJSS14OoTchU2BtoBn0XZNHtdTRihTucEm9B0ykVZHZjHJ9pWQWtezNOK8P9FL0D0Pv8wqnWi+CjFYWrNfRgRh2dx3IWOyE3HJvYK/0yON1mSSpfM4SrR5uqEhX/HLeT1IOYrP3zBRDQDZT8ms7A1crN4XpyD2Iz3VpPKxPP9br1hTZhbOA+prx325VcxXzx8UVdD6Jm0iBr2/Ls1YpIPA1rTrgVWXl1VYOth2TknjrBN01ZpVkmSH0V3z6TF/rk/7h1MFt9owJqJ71u0kxr+fQD502Anb6nEuiYGe6he/idgejnu6rMV6SwUxvuoY+X2tAH3XiszyYY3sUtKYTbiq4kDhp4tQBNZzHUcWXnXEGqt8vp16N35n0VHnbSeFX7nKIHsePzBdCIPa461q31JHGHg3VjaBgaajNArE/91q5UDNKsbspj8uuilFftyy5byVQSew/1+JxDKYl/taGeenUiTHO7GHObAO8KyNgVX0qQPlfvq2HvYcK4EDclfn/J9CQEXejO1ODKRNNrMzsjU7SecIV0az64r5otn9MrMr7jp53842VS9nOHDc8FL3XDyinzdVckumnU6X2Z+eRuS50vftUNznCZvMhOUuZCUcdX2QS3tW1lOqck3YB4/tj0YrjvvSU7Zrm2H9syuqPeg325prvnCyAUjmetHcOnspihFzvUrfWk52YprjBjcct8p69UsY+vhR5TYE54PUkbZ2f2R98AN+sYRk/QeyGxytLQlYupTLrUHa5aas8SKmZgcNiex3v9c564Mt0+XwBASleSYm4kGrfQRyf9iee219K7d1sWtTGYvQ/YVCCqgkNZPyQ4BAAAXXMtAWJ4tVPwM13+bR6un05tl6Wwtp3xiqjwyu2r6+m4+LhtAlHvlkIAAAAduvYUMwAAAPrLtaaYAQAA0H8IEAEAAOAhQAQAAICHABEAAAAeAkQAAAB4CBABAADgIUAEAACAhwARAAAAHgJEAAAAeAgQAQAA4Mn4U3v694bzUrRzntmSHG7MyVCaZc535dn0ilTs055V+zvGV7jMxcdnMrmcuIQUdk5k6b7+3eOrW0b/VnV+zT7pyUnp05bMDV/lMl36zm9g2aFc2Kc9lIt+KzuUiwSUC8qOfdrT7XIx4PgtZgAAAHhIMQMAAMBDilktQ7e/fdpzDd3+fVZ2KBf2aQ/lot/KDuUiAeWCsmOf9nS7XAw4UswAAADwkGIGAACAhwARAAAAHgJEAAAAeAgQAQAA4CFABAAAgIcAEQAAAB4CRAAAAHgIEAEAAOAhQAQAAICHABEAAAAeAsS26d97fCa753a2T+nf4xx7U7VzQO9Q1m4+vkMAoewB4tGmjI2NRdPmkX3+VrmQ3Z/zUlxdND9C3s+GHi1KYS0vzz5e2GeAHlDnhcllkdLjwf8B+0HG+QJAKHuAeH9JTk5O1FSWgn2qXaa1+vOuCreuRvVNLbAdG9uUdtvJ1TeTsiIlOXxeXxmabbRsgeveR3df3L9JeM2ZghO3DlD1vP8ezOeplvGD9glZ+lQSWZ68pcE8eu58V57NF6WwsxVrMIVlOaGcXuFx3wv+uaT+PQZix3Kv37P+HpztNQzyouWS9pnzxWAKy2KTrFeTchHWLanLVrOy3nSZsG4Lp/7P0g2yW5JiDg6OvJRtcKunJXUqbIMq3NtrIoUnczJkn8rEHBx5OV4/dPZFTVGwqU7Q0fNBEF7YqS239Sjcak5ys0U5iE7iF3JQUc/O2lnX8JwsrooU397sShn9qfp+RSqzJVm4b5+Iyc0ey/aA9UhNPK8dk3oqrxYl71V4+pyjswzhOedQNSlXZLJHQaKpwKf3ZeZTbZ9q5wqXqoBfrYjM5ux8As4XA6f6RpVF9Z03/tablAuTHRiXsi1XJ4kNCBvYvRKZUWUnWetlTOfLvVo9fbgusjKd1JDBVbgVAaI5OPSJOqHHL6tWlWErF3/sS0WFfYuJJ+9sZnIFKf5uD53zA9m/NyMzwVydicclye2tyDt6BdBNKRpM4zlVKisHAx1sTDxUTbm9Uzm18xcft6WojvNydM4Zkrlfe3QMqu/ghU7vf4r34Na7+PjCZD9ePhm3zyTjfDFAVICXX1Nl8ddGtUOLcmGyhk6HyvCUzMyqBkRY9yj67/dzh3KyMScj9rm4NMuYhpdTTw89mFFBrdsRgqvUswAx3iXtdluH6ZnJ5Yo6qapWtbNc2Coxf/+mWkvlxB6nV5UDXYE97Dw4VHslZ19Ecrmp9noPlaERfQAWO+xRURXRnvrvwZQU1g7M56oDz/GHU+bV47OEdduDOvE1oF3fTk2DZ6pZg2lkThbvNQ826lK23jEe9DzotJa3XEJvXHw9V5MmVfv3tiiyOhVVoqdf1bnNmTfLvFKNS/Wo28egaXTOzshUq/HQJpBU31aa7AfniwFRlc35ouTWFxpnzLKUiwaGHm016LGuSbMM+ktvAsR4l7SZai2QMD1zuJ4TmS3JobPcklvRrOVl+45qceyo1rl6bFLE5nEQFKVyfibHqg0yKuH4CjtlCjJDQWA2PtJBIVetMf2+K8uTHexHaEKmVnXrSqeXx5tX0urQH7knUvka9nEAnbs4O1bH8Kg6vprTPWxuj4NLB3X5L+55oGwulIgfG/qYMeeDcBnVuHzhNLTq1vOpJMfzvQsSa8FofEyybUjesZ+KGVYyKfu5spRU0NXtY9AEo/dG5NQLjuvHbpnsx2rZP8c2xPliEJiebFXHvmwSmGUrF4rOVql6sDudLs2FGbfmdRt6pYcp5m50C7upWDddk1VFVt6KvIxVQA0H2jZigs3O6ZaU3g8TIOuKUJ3QM++LZSrety9k/57urQhO6k19OavrdQHaZYKTNO4vSOnLdv2A88QU9YQsJTUEVSVW64FQQak73tasJyelX531hGPpGgSmnXLHIR7m9mUyKSjTQdv0qSyqZbYetQqjO6DOIwcPnf2Jj90K04xZz6GcL24u0zMo/jERl7lcVGVzurNhVqmZjqZK895P9FRvAkQ9ZkGd4Iuq9R62aK/3irhYxaGK24Luxcs6Lmp4RJqP3MnGDRQryy/SX63lBqr3p6SwV5FxpzXXtNV/b6TxyQLIaPROk4sdPEMypRbd/yPpiMvJ6A/2oedYzjJdwagagtO1c46e8ir4vApDj15KabZi35/tfYt6PP0L4qKexW6K9QCZ29VEjfQgzVjYaePCPM4XN1QwpEHWXzYZl5q1XNgLr3TWb6P9dHQqKjgcM6nxQ9LS16h3PYjR7XDUZIPFawkSTVBXkdNvdt5K3fPhCXotuj0uJxiIW7+P6QRXPbdOD8TSXkAXmDG1zsUZzeigZXz5nRzY+dbGZSTTfUZVQ9C5ijea2s48ZOEPPwkC59jFaCY1l5OZB92t8My24j19biPy6ECFiuI12HXlq7M8ef24we1GOF/cYDYNHA1l0pPu+YsaUZtSzVQuCA5vox6mmB26l8s+dAWVy74cZOolyCroLfRu2ZCY1krD9gx0+YpMMwZEfULZxllkrDx7VDnhlvthVIVlaYeTBGNm9922mbkYQlVar2KVkakgMqSWEtfTiL3dRhfvsWbulOAcw2EPXj4aR2kvUkm6ub4ZoxivkNMz24pdcezdbcFtrIeTTuGrPTTjxJMqfM4XN9vwnGzFv/NPJXWsho2oJZlIXS4IDm+rzAFibWC2PiE6rQ9nQHn9FczBff/qerlUAS2v+mmhXvQy6lRu+Z5ztbRqSY3vpOl1q5fq9g92XGFtqlVEtc+vNgUD6zOkf8yVo9mkvtIRyCLjPfP08SN7bukdkrkNe4/A6JgIzhfZKoik9QRT/TklHKurzj3v2xmfGAaYtSm4x6p7DOuefXuxjVnG3t8tqTczHLrS9m1lgptb6wtyov3R55QOKnPOFwgFt2xSYncc0VN0bOnAzj5nhnVEyzqNsJbLqONK3w1A8Xo+zcS9EK/Dd5eKfYyUoqsle92a6hbdQ9FBUAw0dRPLl91n6ZOeCt2oNj9VmOJehj3H+QKAcjUp5gEz8dz2VHR0i5qrUjVXnemKkJM9ekKns8w44+6lbHstGNbRLynUqrzT94Ttix47zhcAAje3B9G2cpumWrv06ynJ9LiMbRnthxZ/E6Zn4uviFQ3Ux212I8qaHeMUjLNq46reLjPZCJ1u6+m5Kj3OFwBCpJgBAADgIcUMAAAADwEiAAAAPASIAAAA8BAgAgAAwEOACAAAAA8BIgAAADwEiAAAAPAQIAIAAMBDgAgAAAAPASIAAAA8BIgAAADwECACAADAQ4AIAAAADwEiAAAAPASIAAAA8BAgAgAAwEOACAAAAA8BIgAAADzfXSr2cUubY2NStI8Tzf4iP+29lt/sbKK//1P+9t9/yf/sbKInzyX39o1U7GyiLi3z1z9+lO//89nOJfvpl5z89rrplrq2zMJjkXfv7UyinPzypCKv39rZRN1a5kf5v78+y7+/t7NJ0nzn3VrmCssO5cLOJrq95aLfyg7lognqGjuX7NaWnW6Vi9WynDyfsDODKVOACAAAgMFHihkAAAAeAkQAAAB4CBABAADgIUAEAACAhwCxbVXZHHsmu+d2tk9dfHwmY2+qdg7oHcra7cD3DNwO2QPEo00ZGxuLps0j+/ytciG7P+eluLooc8P2qT419GhRCmt5efbxwj4D9IA6L0wui5QeD/ZtH8A5BbgtsgeI95fk5ORETWUp2KfaZVqiP++qcKuHznflmRPQelObreDqm0lZkZIcJtwDqfomzXp172OjfUl4zZmCk7IOUPX8plq6xnyeahk/aJ+QpU8lkeXJWxrMo+f0MTZflMLOVqzBFJblhHLa6+O+x8xx7hyX8fcYiB3LV3Wua7Cd8PwQTokBXqwDYCwxS8I55caI139JdVOa7zxVuVBalEEjtk80NPqYvg9iez5fbty9e7lRtbNt+HP36eXdpQ+Xf9r5qxPs+9PdNrb87cPl0ybv+/Pru5d3X3+2cwns36fbdqPP+M/LD0tPL58uua8lPVdj9utaPmsMusZlyx5nulw65f36jvveqf8MgvdeOxfo47NXx2Bt3R8afRfVjcu7dzfUXllJ5zGzzNPLD9/svGLel/t3Ds4pfa7uO7blxK2f0nznqcpFijKomGM/ti70r1s5BvHi47YUpSCLj4bsM+lV369IZbYkC/ftExld/LEvlTa3HTeTK0jxd9siPD+Q/XszMhPM1Zl4XJLc3oq8o8WPbjrfle01kcKTOWlUosdzqlRWDm50j2ErEw8LInuncmrnw3NMOcoyDMncr705Bi8+vpD93KGcbMzJiH2ujsn8LEmU8xiekplZqZ0/lIuzY/XvuIw4vcDmfTXAOaW/mbpqtSxLUV1ly+DaQdTbneY7T7VMmjKozhUv9DCUT/FMA/pVzwLEeDrDTcGE6ZnJ5Yo6qa7IpLNcmLIwf/+mWkvlxB63ryrv1HZz6wu1k2VqF3L2RSSXm2pYGbYyNDKu/i3Kdkfd6qoi2lP/PZiSgj3YdeA5/nDKvHp8lrBuWyEkvga069upafBMNWswjczJ4r3mgURdytY7xoMhFToV5S2XkMaKr+dqUqBq/94WRVanonPK6Vd1bnPmzTKvVIWtHnX7GBx6tCVbXWhwmrGF6tyUDz9XnQqcLzY+V3JOuXmGR1SodyxnNj2c5jtPt0zrMmg6R2ZnZIrg8MboTYBoBqyPS9mMVQynWut14nnw3OF6TmS2JIfOcrXWjrKWl+07qlWyo1or6nFeyvZxrQWUVSe9h2FgNj7SwclYteT1+64sTwaVWEfB7oRMrRbl4OhCDirjzStpFdKO3BOpfA37OIDOmd6F2VEZtfON6B4Ht7fKpYO6/Bf3PFA2F0HEjw19zJjzQbiMaly+cBpadev5VJLj+d4FibVgND4m2TYk79hPRVeoapn9XFlKKqDqi2NQZxzUuazw0A39JmRJfW5lFcybRvv0vsx8OmlS8XNO6Weml29t2xsrWH2TV/VfRU6/2SdSfedZy0Uy02i6NyKnXiOu/+8Ecpv1MMWsAxf7sG1uIOema9rVSe+hcn6m2l6d060tXYGZAFlXhOpAaXegrql4376Q/Xu6tyI4YTf15SxoBQJdYE76adxfkNIXv7IyVPBUn6JWFVJSQ3C17FRKKihVwVbErCcnpV+d9QzPyeKqn0btprCha47l3L6qPOsrOxNETp/Kolpm61GrMPqqVGVzOmmoTHBRTRhkH66LrEynODdxTulPpjMi+A7DgOzgTklUreNI8523WS6SqPru4KFz3Jh1JV3ghX7QmwBRj3dRJ/iiar2HBbMvrnY7Ouig91Ax3fPd4waKleUX6VtSbqB6f0oKexUZd3oCmrboVQuuzXcP1Bm941c3jQ3JlFp0/4+kSiUnoz/Yh55aKiydilcZ6imvgs+rMPTopZRmK/b92Z61qMfTGfunRD2L10JX9nkp6szNhj9u1GRXnOf1+SnVuYlzSt8K65hwWnqgn60NCUnznbddLpJ4YyL1uoL0deedSeiF3vUgRrfDUZMNFq83SKwfJ5Rd0GvR9TFED2ZUFel2+2cRdP97qflEsbQX0AVmTK1zcUYzujIYX34nB3a+NX9gfGs5KX2qVYbR1HHmIQ1/+EkQOMcaoyatm5OZB9cVTjUODrUwBeg+H5ybGuGcctMEF67Exsq2+M6zl4tk5piI9zZ3KSuH3uhhitmhe7nsQ1dQuezLQdZWSDuO3smKOjl3diNf2zPQ5SsyzUHrtOrSyVh5XnvlhIH0w6iqKNL2AARjZvfdrLS50KEiK6/cC05UINPs4ogkietpJLyPaPfGPwVju2rHcDSwPxpHaS9SSbq5vhmjqPan2b3jOtY8ONRMBR4fs2bOTQ3ONZxTbhQzRnfNH6qV5jvPXC4aMMdE7Kp3sx5VJtu9Kwh6zN7uJrXg/kcJk3NvpeBeR/7rje77F19feM+mYB32PkvuPbzi9/NKJX5Psg6kuQ+i836CqXbfp8TXG95LrMF9EJt8Bmb9Ce9zEO89h/5gylxi2Uoov/b48Ze391ALjwc1+eeLhPu32ecSl3PWo6ekYzU6Dts6JyRsJ3E99rzTdBmttlyj80pT5nzgbCeaauedpHNyOLnbrFuuyTmDc0q/S1f+0nznLZdJUQaN8PgPJ8pPX/tO/2NjRaQUXS3ZoCXed3QPxfSKjO+kSUUDGd3E8mX3WdYPM1+N2Qv6tl7mpwpvyj3iOKcAA+9qUswDZuL5oZRkRSY7ukXNVamaKxZ1RciJHD0xPCdbZpzxzbllRZAi65f0aHB3Bbkx94jjnALcBje3B9G2YN3hTHVWyz0coK7H9GzLaJ+3+E3PxNfFKxqoj9vsRpQ1/Zuy80X1oCDl2NXF1yEYF6Ye9PRc1V2cU4DbgRQzAAAAPKSYAQAA4CFABAAAgIcAEQAAAB4CRAAAAHgIEAEAAOAhQAQAAICHABEAAAAeAkQAAAB4CBABAADgIUAEAACAhwARAAAAHgJEAAAAeAgQAQAA4CFABAAAgIcAEQAAAB4CRAAAAHgIEAEAAOAhQAQAAICHABEAAACe7y4V+7ilzbExKdrHiWZ/kZ/2XstvdjbR3/8pf/vvv+R/djbRk+eSe/tGKnY2UZeW+esfP8r3//ls55L99EtOfnvddEtdW2bhsci793YmUU5+eVKR12/tbKJuLfOj/N9fn+Xf39vZJGm+824tc4Vlh3JhZxPd3nLRb2WHctEEdY2dS3Zry063ysVqWU6eT9iZwZQpQAQAAMDgI8UMAAAADwEiAAAAPASIAAAA8BAgAgAAwEOA2LaqbI49k91zO9unLj4+k7E3VTsH9A5lrQ1HmzL2865c2FkA6BfZA0R9Qhsbi6bNI/v8rXIhuz/npbi6KHPD9qk+NfRoUQpreXn2kSoIPaTOC5PLIqXHg33bh667vyAlWZFJAmsAfSZ7gHh/SU5OTtRUloJ9ql2mx+FKWs86oKsFtWbq4IRcfTOpTuklOUy4B1L1TZp1697HRvuT8JozBYFe+H421dI15vNUy/hB+4QsfSqJLE/e0mAePXe+K8/mi1LY2Yo1mMKynFBOB6TXzBzv0fHpv8+a8HNIyjgMydyGOpfSiENPNSmDsU6fpuVQH+tmuYSyHr1mp6R6MLat5GMC/eIWpJh1MKUCuntlG9iqSQVMuXZPyOog2F4TKTyZU6f2NpiDKC/H64e1/dFTFGyqgC56PgjCCzu15bYehVvNSW62KAdR0HchBxX17KyddQ3PyeKqSPEtqSx0X/X9ilRmS7Jw3z4Rk5s9lu2BC36CCjcvznnlZEkdvfWqb/JSnFXHq52vNyEL6zmpLL9rEGACnWlYBnXANn8spU9hGS7L+PJkg7pR1aWvVkTUeuroem1avRbVa0GjxwsS67Z1IuXViqxMN2pY4brdggDxVE73VCV1Z9TOK8NTMpMUSKXQqjJs5eKPfamosG8xCvTaN5MrSPF3e2idH8j+vRmZCebqTDxWQfHeiryjFxHdlKLBNJ5TpbJyMFCNE1PhpvklBVUp5tcKUv610ZEZMENBpDiAgTSuXcMyqAK+t0XJrb90ev4nZGmnIJWE4/Xi4wuTOXv5ZNw+UxPWiy+jei1Yj6xtRz2EF2fH6t9xGXGyDBMPO81Dopd6FiCG6c7aVGslhGmZyeWKiApaJp3lwjRoOOA9SuHEHqcXts5rKVaTIt5rJ0i7kLMvKtjMTbXXe6gMjeiDq9OKIAh65cGUaqUdmM9VB57jD6fMq8dnCeu2QXHia0C7vp2aBs9UswbTyJws3mveOPFTtfFjPBhSoXs1vOUS0tTx9fRmWEVVDnRQ/LDVeMuqbM7rCnghsWfRNyFTqyqO/npq54FuyFIGrR9GJben6hg7a6iG4AtVXyc3BJPqxWC7qkTL6bfgmbARlA+PW93rmHXfcKV6EyCqFsvk8riUbTdyMNXSLxPPg+cOVeAmqtVx6Cy35FY0a3nZvnMoJ6Ylkg/SOeZxEBSlNfRoy6SVj+eDSiNICyWng5oLArPxkXbDQ+X+knnfOmA1lVimYDdOVyo6zazTy+PNK2l16I7cowJCd5legdlRcfrnE+megqi3O0YHdfkv7nkgIT2l6GPGnA/CZVTj8oXT0Kpbjz3mux4knp/JseTUe24+5uri47YUvV6V5kbvqPPhl7O6oBdoV/MyOCRTufjQhiCNXFEl/MwZG2h6CFfLfv0cidWLOpU8lhfZCYZI1TolguFTZdVYNJ1C0/sy88kdNoV+08MUszs+rl1uL19Bym3+MLbpjZxekXEzls9WPg0HlDdhKobOmYBVHSgmQDb70mJgcBOm4n37QvbvTanDLwgCm6ICQhedfm36c/Y1+mrdL7V0UyQxRR2mp2INQVVB1SoTFZS6w0TMenJS+tVZTzj2tkFg2pmKrLwVeRkGo/a8Eh3HpsdF/P1JI95zA7QrRRnUdVF5tSj5qKHzQiQXS/uGKeqW9W/Q0z/2dtQ00uqDSTtu1zbiDtdFVqbbr/vQe70JEPWVzuoEX7Q9dnq6vitoq/JOd42r4DAosLoVo1s26qDI2ns3PCL1oy/a5waKleUX6a/mcgPV+1NS2KvIuJPuatpLeG8kW4UFNGF6vVLRvRUi+38kVQY5Gf3BPvT4vRit6QHvtXOOnvIq+OyNWDCqzitmKIsZu2UH83tju1JK0RsLtJa+DIYZvWDakrkR9eTsjEyZvwtSxYWdZhm3oLFWnJ+U0ydqHRt+QBr2LIa9mYf2dV3/Za77cKV614MY3Q5HTTZYvJYgMUwHeRVQMN4nu+BA6PY4vqEHM2oPa2M1sgm67ZO7/l12nIh7sQ7QITOmNmWvlx6DNL78Tg7sfGv+gPbWVNDmXCEZTW1mHhoyDcX64zXqTdUXjO0FKfEoWJ3WabswgE3OXpi/pwGHbmizDJrAUl+4Eo4nPDoQPZLQ7ewZM2MLba+jGU9oM1cq+PMu3jR/WxufnFS+g7oP/aqHKWaH7uWyD11B5bIvB71sPdiT+cp753Cwaa3swZIdx9flKzLN+A7nQEonY+VpThg5mXlA9YMu0gPaUw8nCcbM7rtZaXPxlDo+X7kXnLQxsD5xPY3YVFjb92ALegu920a5qfLhOdmKB6n61lpRAJvUG5P2whcghbbKoD4ugnv8RmMW3Y6ecNLDP/SQL/3Y9gaGd8mojQmuP4ZNtsG5qlkL6r6sDUFclcwBYu0qwbzfsnDStfVXMAf3/avr5VKFL7gPUm3Z7vcy2pSyHetnJjsesZ3BsaluF+Nuy0y1iih+laWegjEZGS6aMVeOZmNurxOlDYAuyXiPTX38yJ5bevWNog+DXxOJjongfJHt+ExaTzDVn1PCsbqxhmMGZuxWONheT/ac0ronv4FYbwtwJVTDpnah1aTs5w7rUsSp6IBUBaD6BxmCddUfw0FKORh3GB6bmes+XKnvLhX7GClFV0u2cyBdB30S6LQCAxq5ieXL7rO+se/1X0WpB++3ExQDQO9cTYp5wEw8tz0VHd2i5qqoysdWhASH6Ande2DGGd+cn80KUlv9MORCp/WCm24THALoJze3B9H2ADRNtab5pYO26Vb/tox+iv/+bH/R6f7Jr4s9/ByAwI0oa/oebWaQvR5D1QepLb0/+rYgNyUbAeDWIMUMAAAADylmAAAAeAgQAQAA4CFABAAAgIcAEQAAAB4CRAAAAHgIEAEAAOAhQAQAAICHABEAAAAeAkQAAAB4CBABAADgIUAEAACAhwARAAAAHgJEAAAAeAgQAQAA4CFABAAAgIcAEQAAAB4CRAAAAHgIEAEAAOD57lKxj1vaHBuTon2caPYX+WnvtfxmZxP9/Z/yt//+S/5nZxM9eS65t2+kYmcTdWmZv/7xo3z/n892LtlPv+Tkt9dNt9S1ZRYei7x7b2cS5eSXJxV5/dbOJurWMj/K//31Wf79vZ1NkuY779YyV1h2KBd2NtHtLRf9VnYoF01Q19i5ZLe27HSrXKyW5eT5hJ0ZTJkCRAAAAAw+UswAAADwECACAADAQ4AIAAAADwEiAAAAPASIAAAA8BAg9lRVNseeye65nb2xLmT35zHZPLKzQIKLj89k7E3VziGVo00Z+3lXHWEA0F+6ECAGwcOzj5zifPpzyUtxdVHmhu1TN9aQzD0pSHF+EIJd9IQKdCaXRUqPB/u+YF13f0FKsiKTBNYA+gw9iB7d4zcmY+HUwUm7+mZSnfZLchi7kWb1jbP+LmznytxfksN1kZXpTfUpAY7zXXk2X5TCzlasMRQeT36ZMT2NA9Jr5h/PjY6N8HNIamCpxtdGWQpreRrZ6KFmZVDRx7B+vdlxGS5jp7ryGnudbMLNR4AY0qmesbzIzomcnNip3bukqwNle02k8GROnf4T6Duwh9s4CSqHm1BhDj1alIIUZZuKDI7q+xWpzJZk4b59IiY3ezyAZSaocPPiHstLknTGqL7JS3E2Jzk7X29CFtZzUll+1yDABDrTuAwGGcCxVyIzq/apBKZRN70vM5/Csn4iW4+c2k0Hh9MrIuuH9nVbrxEk3mgEiIY62ZsekBNZalDJZdGqwvRNyNKnkuT2VuRd34/xoyJDTKvGkDKemxGpHAxEj2HIVLhpfmpLNTzzawUp/6o+gyZofKFnmpTBi48vZD+ngrqNORmxz9VRx/gLPXzkUzxDUBPWeS+joFHVazsFkbVthiXdYG0FiKY1EXUlT8rKnn3B4S8T744OWt+bR7b1Ei6X0NqoS8km9LTFl8l8McXRgTo1F2SqC8GhbpGdfRHJ5aYaVph1hqdkZlak+Lvz/uPd9bH3HaXpTM9nuFxC+iC+HjXVfT4ttuUaejCjWqHHcsZBD+3bqVRaHTsjc7J4r3kDqO44984FtXHO3nK9OBekUpUDHRQ/bJVhCBqeufWFxJ5F34RMrao4+uupnQe6oXkZHHq05fcEJrj4Y18FfzMy1XAsfVKdF2xXlWg5/RY8g5snc4CoA5PJ5XEpR2mVQymp4MZVv0xZxpcn68YsFOcn5fSJXUb3oq3lvRO6Xk/+S0kOo/WoSbV03OKsKwRvGbWe4/lsFcPF2bHI7KhILKhtr3I5lVMVMI+PpA4PlSEZuaf++3IWVHg6YJtekfGd2vsuqwp2Ml4h7qnn3o5G7728WpGVV+4y6iCNrUdPXi9p2m2FhkdknIMeVnjsqKOnqYmHBb8B5Kg7hhukpyrqHLJ9x0lhqfL/wjmndONckMr5mWoi5dR7jjWsYvt78XFbil6vSnOjd3K1cwDQBVnLYJLTrxWReyNy6jW+3M6IWJ0XDddSx6iaPT6jRN9UGQPEqrxbrkhhJ3msTSBpGZuajKWZcuuHtWDFBB4J9vbloFFvlQputtdyUvrVCRqH52RRtcQbVUYNqcpmW17aykdNO21etWsqj86Y7vrVshfITTzWaej4Z1GQshMwmwomQbPPIv22fBz00EzlkYa+WvdLQrrJHMPxFHWYnjpQZxOHKqe13g4VlLoN026eC1JRjbG3Ii/D84UNaqNGsNofk5Zz9yeNPVXZ2odAR9otg0lU2T54GJb1kwYXLNqMoO206MZwLVyvbAFi2HL+wc43UVQt91prY0wmVdCYle7+DgpiuJ6kgE2dqKPXgymvKpzM4q0sXaHNVmT/j4yBUKNAt6mgi1630qI90D0oznsam1aBnH0pPVXRhr0x4XqSBg23sa1sPaQYVI0aJfWGZEotmnw8NTqnZB3K0KVzQSqxYNRrBKuK8pUesP+y4ZithlL0xgKtdVAGk8Q6EcIxswemdz5orEUZwViWj7ri5soWIGZIL+oLPqLeuHCKFZw0dJAY/n0QLMaDRHWidq6siqYMVyAPjaiQrq7lHnSbZxccLJl62M4PZF9tyxvTpAfAx9/TSeNBwo3pIDH8++TUXaZtZWgkYPAlHzvJdKUyvvxODux8a+Mykqm8d34uSKXBeTDqTbXHs06J+42uMIBNvh1OmMqjOkXH2iyDSRKHPniZMjtEKn5hZlfH9uM6ZEwx25ZClLLRXcrxi1SCwdbF+fQFMK3gAgmHubhDFXhv3F0bTG+hfwWhGbuhCvdi5rEbwcEST6c3dB6MAXTTvHq8lu7V6/4A++C7cWXdVusBy7hVfhhVx2TYk9CKLn9F2Xe7pxOP4SwXd1iZzgU2FdbonnAtBb2FxbfOttxU+fCcbMWDVD3GOgpgk4bopL3wBUihrTKYzPQWxu6yEb9TRzAsyR0T3MYxjL6TMUCs3dQ1aJUEXcrleNDxXD9XlHzYcrFT/CKVVuJXJOoW0Lh3M169P4fBLxG4y6kpW3AVvC99IU3498FFNukPIld4sDS8atNN6Zr3pA5Yt5fj/pIdA1l7P2ZqcnVxIh18un+vJjOIv+1tXchBpZLtCm0MtnCcnxssNaGPDdlzI8SkYzgvx+uHLa+u9GU5F9geD92b8r69ZqzObJiLucLt2OO47XFX9LbgOjh3wTDDMVS9FZRpt/EU3IpNX/AVLavrETcjqANStYxEdWg7xzD6zXeXin2MLoquqGwjrd6valentxc4Y0DZXvCOAqSrZvdZ39j3+iuxqmxSoQLoMxl7EJHWxHPbm5F0UchNpFqa5rd2PxEcIkb3HrR71f81MSkyycnMg+sOyHS6O7jpNsEhgH4y2D2I4fg+O5tIX6DR7UHsEd0zsC2jTe5AfzMEY031cAJuXYBGTA/z18UeHk9doFNq5ga+hf7oCdf7o28LMkCZBgCDgRQzAAAAPKSYAQAA4CFABAAAgIcAEQAAAB4CRAAAAHgIEAEAAOAhQAQAAICHABEAAAAeAkQAAAB4CBABAADgIUAEAACAhwARAAAAHgJEAAAAeAgQAQAA4CFABAAAgIcAEQAAAB4CRAAAAHgIEAEAAOAhQAQAAIDnu0vFPm5pc2xMivZxotlf5Ke91/KbnU3093/K3/77L/mfnU305Lnk3r6Rip1N1KVl/vrHj/L9fz7buWQ//ZKT31433VLXlll4LPLuvZ1JlJNfnlTk9Vs7m6hby/wo//fXZ/n393Y2SZrvvFvLXGHZoVzY2US3t1z0W9mhXDRBXWPnkt3astOtcrFalpPnE3ZmMGUKEAEAADD4SDEDAADAQ4AIAAAADwEiAAAAPASIAAAA8BAg9lRVNseeye65nb2xLmT35zHZPLKzQIKLj89k7E3VziGVo00Z+3lXHWEA0F+6ECAGwcOzj5zifPpzyUtxdVHmhu1TN9aQzD0pSHF+EIJd9IQKdCaXRUqPB/u2D113f0FKsiKTBNYA+gw9iIrp+RgbS5za7TWrvplUp/2SHMbuk1R9k7Cdm1A53F+Sw3WRlelNoSqD53xXns0XpbCzFWsM6R50Xcb9MmOOtxvea1Z/HCccF7p30F0m8ThXja+NshTW8jSy0X1pyqA+flstE19PUmYszXpws+j7IHbmz8sPS3cvn+7+aecHRHXj8u7dp5cfvtn5LL59uHx69+7lRtXOOz6/vnt59/VnO6d9vtxQy95d+qA+yX4X7OvAfdfoiCnTieXXlpelp16Z+XP36Q0p7+nVfQbmHOCeP5ofO+YzubuhlgK6JE0ZtHVV7TlbH7l1VEJdaMq7W17TrAc3Dj2IiS5k921RpM30cPX9ilRmS7Jw3z7R1IQsfSpJbm9F3vX9GL8JWVjPSWX5Hb2ICJzvyvaaSOHJnAzZp+LGczMilYOBHmc38bAgsncqp3Zehudk68TtUZ2QqVX1MTT4HIYeLUpBirJNLyK6JUUZDOuql4/Co1fVRzuqLK9tRz2EF2fH6t9xGXHqQlPeHWnWg5unrQDRT8lOysqefcERT9v66ZMg9bR5FIxfjJZL6JKuS+UkpKbiy3R8McXRO/Wecm2Op7qQsy8iudxUwwqzzvCUzMyKFH933n+8uz72vqM0ndf1n6LbX011n0+LbbmGHsxITo7ljIMe2rdTqajQZqpZY2hkThbvNW8A1R3n3rmgNs7ZW+4qzgWphA3KKVUttstW3l+jEBPosaS6StXN8/oHdSty+i14Jmy85MPjTdcXapnc+oIt7+nWgxvI9iSmVp8KqU8x1y8T79q23c9qitKwCWnZNKmo5NROcno3neD9tN81Hry3RtuvTzEHvPeR8B7i7zP4jP3n6j6LFvtipNiWL8U6cWs0P0adsqLTVLbcx/+mUbmtHSf2mFTPxc8h7nmnbj0dnwuaM9vT+6mnhp9BqH5/49Kc74D2xcugc3xqJpWs55PLaq28x4deZVsPbo6MPYhVebdckcLOUpOWctIyNjUZS6/k1g9lKex5GB6RcfvQs7cvB416q0x6KyelX5301vCcLKqWuNcbl0VHvYfK+ZnoDvlOmO761XLts1EmHus0dPyzKEh5o/beR+/k7CNfs88i/bZ8x2eN+hhxm5x+bfpz9jX6at0vCekmcwzHU9RheupAnU0cqpxuRSmsURmdtQ+1XpwLWph4fiInJ8F0mNuXyYa3tLJ3NFDH62K0/w24aWqga5qVQZvJezsqh6osu3VBIMj45b+UzOvBxYpJdy5ptR7cNNkCRBP85GT0BzvfRHHeT/VMqqAxq6FHW1FhDNaTdAKuOK8HU15VOO2q/t7+2EOjUaDbVNBFL/dGapXbWt57T2PTKpCzL6WnKtqT4ArJaD1JV5a1sa3xkRYVHW6FRo2SekMypRbd/yOpYdHonJJ1KEN3zwVZDD16KaXZSsL705WmHoajGnMnzRrW1qwKfO1DoDsalcGgkVWcn5TTJ6qh43Q2aOE5/uLjthRnVXBoXw/qZT0W/YWtj9OtBzdPtgDRBD/pxhQUdmqt62iKFZw0dGEM/z4IFuNBYk5Kn2Lb0VPs9jKphL0ZD9vsPTSCgyVTD9v5gezvxba7Wq5/T96A47R0kBj+vQ0W40Film1laCRg8A2NqOZQyl4vPZZpfPmdHNj51vyB8a118VyQmfoM1DHsV4bZgkPTG+s2EoGONSuDQzJyT/0Xv6Dy6MD0NIbjipPKZTAWPZRuPbh5MqaYbUshStmEhc/OGsFg6+J89++X5xdKxVzcUZGVV40vqsgi29XHjQQHS6OrFevoAb+6x85J85orxFQg1/0B9sF348q6rYs/9tVnNCNT7fawYrD8MKqOyaIcpCo/uvwVZd/tnk48hoMB7rVB8ClkOhfo85buYWyUEs6u+iZI39Uqw2zBoX7PBx03TgFX6zIYDCdakRdRurj+2DNZgtjVyKaudBpwadaDG8iORcwgGHgaDs7WA1P14NXGA1prU3xwrP83sYGuStI66gec1wawN1+uhWhgrZ3vRJPB8enek2L3x5ucAezBRSr+fdPqBrnb/Wi0jkiLbdUM6D0v0RFTphPLS/0xHZVJb/n6Y9gvY0kXjiWVxfTngug4bOtitITtxNeTdEzZKfH4MctzH0R0UdoyGKsnkspnUN8460g63lOsBzfLd/ofGyuii/TtNsyg3jbS6v1K31pncnk8ZY8Ibg3bCz6+c4MGptt9lvVD58KX66IvAsjLcV/sCwAE2roPIlqbeH44WL+xGv7W7ieCQ8ToG/Lu3Kzf6g5SZDmZeXDdAZlOA+rfbHev0AaA6zfYPYjh+D47m0hfoNGzQey6Z2BbRj+1c3FJPwnGsugr1Lh1ARoxPcxfF6/oopA26RvLmxv4ph0b2GN6f/RtQQYo0wBgMJBiBgAAgIcUMwAAADwEiAAAAPAQIAIAAMBDgAgAAAAPASIAAAA8BIgAAADwECACAADAQ4AIAAAADwEiAAAAPASIAAAA8BAgAgAAwEOACAAAAA8BIgAAADwEiAAAAPAQIAIAAMBDgAgAAAAPASIAAAA8BIgAAADwECACAADA892lYh+3tDk2JkX7ONHsL/LT3mv5zc4m+vs/5W///Zf8z84mevJccm/fSMXOJurSMn/940f5/j+f7Vyyn37JyW+vm26pa8ssPBZ5997OJMrJL08q8vqtnU3UrWV+lP/767P8+3s7myTNd96tZa6w7FAu7Gyi21su+q3sUC6aoK6xc8lubdnpVrlYLcvJ8wk7M5gyBYgAAAAYfKSYAQAA4CFABAAAgIcAEQAAAB4CRAAAAHgIEHuqKptjz2T33M7eWBey+/OYbB7ZWSDBxcdnMvamaucgR5sy9vOuOnoA4ObpQoAYBA/PPnIa9OnPJS/F1UWZG7ZP3VhDMvekIMX5QQh20RMqGJpcFik9HuzbPmRyf0FKsiKTBM0AbiB6EEPnu/JsbEzGnKmTHrPqm0lVNZTkMHafpOobfxtmugkVyP0lOVwXWZneFKo7ePSxM1+Uws5WrDGke9B1GffLjOlpvOE9a/XHcdJxoRpWG2UprOVpQON6xOu1pLpG93Q7y1BWESJA1PRBNL0i4zsncnISTIfrufZ7zNT6ttdECk/mVBWRQN9g027n5CSoQG5ChTn0aFEKUpRtTiBwVN+vSGW2JAv37RMxudnjgSszE89r5wo9lVeLkk88hidkQZ1LKsvvaFjhatXVa4dS+qLqGjdI1MHh/LGUPoXLlGV8eZIgEQYBovbtVCqSk9Ef7Lwy9GBGPdOeVhWmb0KWPpUkt7ci7/p+jB+VHWJaNYaU8dyMSOXgRvcYtjLxsCCydyqndt5FwwrXwdRDq2VZiuqhIZn7VdU1awf2/H0hu2+Lklt/6fT8q/popyCVAT9ekU5bAaJJEUVd0pOysmdfcPjLxLutg9TT5lEwfjFaLqH7uy6Vk9BKjy+TOTWsxwrNVpz0qdo/1fKqtDV+8ELOvojkclMNK8w6w1MyMytS/N15//HUQOx9R2k6Lz2Q0OMZX4+a6j6fFttyBYHzsZwxFhGaaVwVZKpZY2hkThbvNW8A1R3n3rmgNs7ZW64X54K2BBWtrE6p6jXJhEytqhj5a1L4CFyh4REZb3X+/mFUcg0aO7hl9E/tZfHn7tPLu3c3Lj/befXM5Yelu5dPd/+080nLfL7cuOsuE8zfVdNG1T717cPlU3deMetZ+qC20Njn12o97jIJ60kr2O/YfmUWvLdGf2/293Xtkwl57yPhPcTfZ7SvznN1n0WLfTFSbMuXYp24NZofo05ZqW5E5T7+N43Kbe04Cc4xurzHzyHueaduPR2cC9Iw29P7qaeGn0EgzbkM6Cp9zN19evnhm51XwjIbHhNBPVJfn8f/DrdTxh7EqrxbrkhhZ6lBS1lLWsamJmPd1rn1w1r3t2nZJNjbl4NGrR2T3spJ6VcnvTU8J4uqte71xrUU9FBMLo9LWY/D2NFX7I61d/HI+Zlqn3WmPjWgPsHHOg0d/ywKUt6ovffRO8lJ8WafRfpt+Y7PGvUx4jY5/dr05+xrdC/9l+3EHu76FHWQ5pIoFWapcrr1KCrtMjprH2pdOxek545DPMzty2SrW1rRK4OrFF1YWOtRP7ijzu32ZW3o0VYwfjbqdX+hKmZ17AFKtgDRBD/+WL1GTIAVFTodfKWsSBy68PoFPOkErFPD/rbyqsLJ5OidrOypYOvEBrXqwNJBoqzls6eoGgW6TQVpabk3Uqvc9IUrznsa0ylv+1J6qqINL4IJ15MU9LaxrfGRWnWO26tRo6TekEypRff/SGpYNDqnZB3K0IVzQZuGHr00w1SS3581q4Ja+xC4CroODRsxelp6oJ/1h4T4F1xtydyIenJ2RqZu/O3Z0KlsAaIJfipy+s3ON1HYcQudnZzerrTcAh4Ei/EgMedcgeVMsdvLNHNxdlx/8r4/pQ6jdgQ9G5l62M4PZH9PfWYPnX32rnQOp/htRNLQQWL49zZYjAeJWbaVoZGAwTc0oppDKXvG9MUa48vv5MDOtzYuI5nKe+fngvapz0Adw40aTqan1W0AAtcgyBg1Giur2QtXsoyhx8DKmGIOgp9aykanZuMXqQQDsovz3b9fXt2VxebijoqsvGp8UUUaQSXnD6K/+Lgt6jBpIxAakpF7kv4qMH2BiLkgppbmNVdEttN72VLw3biybuvij32p0LpESA9oV0fKQaryo8tfUfbd7unEY7gqm/P66sqFJhVZTKZzQTCkJDkj0Z7qm7z6FBpdrFOVA51GdxuAwBXTF3Dl1wpSbthgsvW5lORlNJQDt1nGALF249cghTMpp0/0PcDsy5busvbHNQRT1nsr1V3ZaO7p5PZs6f05DH6twF1OTZmCK5tSdtPiwXjEdnrs1Ps3Y/iaXLXppnTNe4r1ciTsj5maXF2cKH51spryX2I37860rQs5qFRoXaImHOf3Nl3Z1MeG7LkRYtIxnJfj9UNnvGEaWc4FQSPOpKTft9OMDQPM2pQX3QvfYGz20UGT4BHolfBG9U3KqFdHTMp+7rCtTB8G03f6ShX7GF1kWms6GBugg03fWicInJtdpIRbx/aC64aOe7FTX7P7LJkD0ax0Jd1OwAsA1ytjDyLSmnhuezPauRK6H4W/tfuJ4BAxw3OyZXqhu5ey7TUzFktyMvOgl0Gb7mnUv8fuXn0NADfDYPcghuP77GwifYFGzwax696DbRn91F6qun8EY1P0cIIb00OEK2d6mL8uXtFFIW0yPy1WVA+cuxb0it7W29GByiIAuD1IMQMAAMBDihkAAAAeAkQAAAB4CBABAADgIUAEAACAhwARAAAAHgJEAAAAeAgQAQAA4CFABAAAgIcAEQAAAB4CRAAAAHgy/tSe/m3hvOhfMq0zW7K/OZpimWa/kRz+NvIVLmN+Q3Y5+RebCzvB7w9f5TLVN2OSX7NPenJSsr/rfHXLdOk7v4Flh3Jhn/ZQLvqt7FAuElAuKDv2aU+3y8WA47eYAQAA4CHFDAAAAA8pZrUM3f72ac81dPv3WdmhXNinPZSLfis7lIsElAvKjn3a0+1yMeBIMQMAAMBDihkAAAAeAkQAAAB4CBABAADgIUAEAACAhwARAAAAHgJEAAAAeAgQAQAA4CFABAAAgIcAEQAAAB4CRAAAAHgIEAEAAOC58QGi/kHysbExOz2T3XP7AgAAANqSLUA82nSCsfiUPTgzwd3Pu3Jh59sx9GhLTk5O5ORTSXL2OXSXH4SH06ZU7euh6hv39cbloVtBvb89Z3/Od+VZ9HxselPba//v7dRheQQAYBBkCxDvLwXBmJ52CuqJgpTD+ZMtmRsOFsMAmi3JYfRd62lJJuxLmg628l+cZXbGZWU6HvxdyO7PYzJZmXHW1U65qcqmCubyUrbr0JOzP8NzshU9H05lVVpFcndGg2VCq+461LQxJ0P2JQAAbivGIKJz57uyvZaT0q9OcKUaE+XViuz/UeuPu/j4QlZEBZEdBmHVN3kp6sDuuRuiNnfxcVuKKkRcfET4BwBAKz0LEOvSdwmpvcnlisjeikw6y20e2YWs+HqefexBAtCkzjelGktNxvcl7Lmq7U+8hyx4Xf+dl0Z13nug2Xr0a2r+KNyX2GN3ewmp1Pp9VsKhAXX70Vujd3JS+Xpq5y7koFKRXG6qwx66qhysiRQepg8O9d+8U2Utt77g9XoCAIBkPQkQ69KNOr23lo8ClInnwfOH67m61OXSfbOIoYOsg4e113Rau7I8mRwEdawo+el9mfkUbEvvW3HeHWen06MHMhXui5p0D9nKdP1YvOK8Cn6/LgbL6bGR6r3X9jnNetT8/KksnhxKaVY/1vsVPK71yKlAcnpFxndq69GT+/l1VbNAfnhKZvR+vnc+CRW8vtANgC9ndkzfqZzuiYyPnPrBcdYxf+dnciw5GZVYcNwk+G3ae6jLZbSeeMAPAMDt1P0A0aQbRQpP3DTihCzpMYtrB3XBVDP6AhQv4Lk/ZcaR9UZOSp9q4+GGHi2qbRXlIAqEhmRuwx93N/Gwwd646U8TPIkcn4VhULr1uL1dufWXDcfpFX9P8YmGY0czpGRd0YVAdgqCZzdI1O/JNgLCYOuVyMyqfdlRnHeDYxX0igo8M/dsqmD0rcjLaD3BtpN7lxv3HoYNlXAKAnWCRAAAepRizsnoD/ah51jOslS+dSnUvArZrlYtsAt6NGv7oqb55L3xL4TQwdOJbDm9V2nX05wKusOe2XA9V5RCHnr0Ukoq6PWDU70/TsC1MScj6tl4Srmw4wbH6rN5kr3hoMuXN95RrXFBBa2VykF9b+TRQeqxhxPP9YUs/rhJAABuoyu+SGVcRlJfsRqkUGX90Onl0RX41RofsYHF0aZMLouUbAraTOZK7oy6tR7DDcpssHglQWKQLq67IthlepJzMvMgDMxGZdTrSQ1cnB3bRykNj6hSVJHTb3beOv1asY9cF7L7VgXfq1NOUNqESV873zkAALdU9wPEcDzaK3dsmQr25ot1ab6hkXGRvX05SNmraK5etY97zWxrtiQLDcf0Be+pc91az4RMJaR0jS5fpBJ8D0165XTPrwnu3dR40FtYWX7n9BY2Tv+GFyfVjzcNeguLb53ylTisQTl6Jyt7OSk9ThMeqmDy1YpUmn7nAADcDj3oQdQpVTu2LEx9juXleP3QS7Ma9lYoK9Phcm5AYNOGy5PRa9t3yia1WRPcV8+8rgKSih6bZteV/Wpnfz/MPfbc27HcXwguGImW2ZbRnTZuzt2t9dSl3+2FQW2OM2wmfiV5cP9Bfxyllza3F/skfd+H68eSj9bVoFwo+gpozQsELT0msnzPKV/2Yh3/Ah0beK8uNhi/6ZQdM03Kfu6Q+yACAKB8d6nYx7eX7mGbP/YuUsF1UwGeHnOa8X6HAACgc1c8BhFIJ7g1Tdb7HQIAgG4gQER/sanz8EKent3XEQAANESKGQAAAB56EAEAAOAhQAQAAICHABEAAAAeAkQAAAB4CBABAADguREBYuOfXesS81N0z2S36U/+xX554+f6X/gAAAAYBNkCxPA3fROnVgHWTad/QvBETk5O5HA98w/joYviP/1nprqAPf5TepvOb0D7/PU1Xq45/csvznqc3732foYwNtUaPbG/t1P2n4wEAKBz7d8H0fw8nUg59pu8N1LGn9rTFf5kZUYO+d3ea6EDOvN70A1/gk8Hh5Oycq+2jPnOlsdj5bVLP+dnyk9RCnW/B91EXZkL9kWyrAMAgB5hDCIGz9E7WdkrSNkJ+oYevZTSbFEOnGEK1Tfd+K1nFdhlDQ51APu2KLK6yG9/AwD6Uk8CRJNSMyk/N21Wn4KOpwrj6TQ/NZeUwg7Wv3kUSyc66b1Qq22JjMuIBD/zFi7T3phH9z3rKXvKMvr8vJR+wvu3P0vXcFvm9eDv3Pdf996brUfvg9qXavhdxB67a/K/r9h6HOG+9GxMaaIhGbkncnwW7nFVDta68FvPRweiwkOZytLrZwLYnJQed7htAAB6RaeY21LduLx7d+Pys511/bn7VL12V01PLz98C577/FrNL324/DOYNctsVO2MZtZ3138u9O3D5VNnXTWfLzfMdpy/M8v662m5LTvv7m/wHpq8P+e91AT783S39kqz9TQS/I3en9rfxT8/sy1v/s/LD0uxZexnodcV7ZN5r+5n2WI94WfzWu1JuD79Wvw7Mcule5/mvaj1JH7XKYR/X5viZaP+e/Dehxbuf7X2GXmvpxSWhc/RdxZMjd+b/XzrtlMry9HkfS8AAFydHqaYc96YvomHBZG9UzkNZmXo0Zafkrs/JWqJtuTWD2vrGh6RcfswlG5b/v4OPVpUy/gpyVYuPm5LcbYkLx/VRia2s55AwRsvN/G4JLm9fTmIehEnZMkbAzkkU7nki2f057MV7pN57xU5/RbMpluP29ulHv/aaOxluvc58Ty42KfdsXbh34dTebUiK9NuD6t6T59KIsuTtd7M30elNGtfjqi/eyvyMlpXWQpr+ewXhuytyLa8rO3TjvrG55N6vJWGvYdqn6P9sPui1jsZ66UFAOAq9DBAHJcRd3zV/SVV6TkXCNSlNfMqvOiRDrZVS0mmpCv1NrfVmhvY1afNJ5cr9hXf+IgbzgWBiBucpV1PU/r7NYFRbT1XlUKeeK6CKfXZ7P/hfFfDc7LlBlzPp8zTfko5HuxOyMJ6TiqVg2xBWaxRIPcXVDAa2x+r+nvasYfqe1Kfp3iNAgAArsY1XaRSlc3pFZH1w1oFrntM7Kvd1dm2/OAqBRUsHEbbqU3t9pb5cjL6Q/BIj/fLr+lexto22rn9TrfWY5hGgF2PDRavJEg8P5Nj9V/T78peuBKNFTQ9zX7ArZ1+zRYcD42Mez3jATW/Zx+6VENlO8O4x4sz8678hhYAAFegb65iNleU2se9lmZbZhkV7C1kCOyGHsxIbm9FXnT93nUXsvtqRSrNep5U8PGinZ6/uG6tp8mQge5epGI/m2bfVXQbGvcWN0FvYfGtk8INA7gnsRR62AOdlO41vYVF2Xa+czPUQL37RbdXUam+b7GfLvs95NYXnH0GAOBqXFOAaFN5zhix7Tvl2Bgx58rkaVWx6vFi08F8tjFiKbb1w6ioJaL168ncZ88dmxcGCWoyKdgoleyMNdNpzfjYNzO1c/PlouSjv5+U/dyhdzuWcGxjtMz0qSzqlGRG3VpP/RXMeTl2x4Z2TeyK9fCzid2T0kubm/t11vfi6rGp5XvOkABVzsZ3Enp7w3Gt6jt/VxfU6huol2Xc+c7r77eoqCA1nxR8hpzyFezLvsx8OqmNHQUA4Aq1f6Ns9IwOthKDDFyb4DuR1DdTBwDgJuubFDPQv6ryTvcaz87IFMEhAOAWIEAEmghS1fngF1f4aUUAwC1BihkAAAAeehABAADgIUAEAACAhwARAAAAHgJEAAAAeAgQAQAA4CFAzKwqm+bXLtr5dZR0gl8labX+cD/s9KZXewMAAG6bjAFicnBkApqk36m9Ite9/esxIUsnJ3KipvKqfQrXJBas37qyCAAYNG31IOZmj2U70+8hD5IwMONn8KDp4NDeSNuUi0MpyYpMEiQCAG6wtgLE8dyMSOWAChC33sXHbSlKQcrPw+bCkMz9WpLc3oq8O7JPAQBww7Q3BnFkThbvNa8Ag58ocyZvjFyQkts8upDdnxst01q4jUn9O7mqQp4M16OmTWffzHJ63ee78ixaJj7GL5YmHHsmu+f2JSO2r0k9REeb6jW1Xm87/r4EWm1LmR2VUbO+JsukEduX7OnP4H0/+3jhf6cJ6wnGTjrLxL7P2lAA9/3Xv69m6zGvqfloX2KPXd7+6inxvYffa3uf7+lXVfZWp5zeZLW+VyuinpXjM5pQAIAbSv/UXnqfLzfu3r3cqKqH1Y3Lu68/m2f/3H16eXfpw+WfZk4t9fquNx/+Xbh8NB+uS/v24fKpO59BfPtxZn/M9jbUlrU/Lz8sufuj58PXAsHf+M+FGm5Pfybeduyy3npabyv4G/+5+s+0xrwWvRdHwmfabD3J7Gel9yf2/T3dddai3rs3b7ftPld7X08vP3wLnqvbnxbrCddh5sPPW++XeRz7DFO9z/D91fYpveBvo/2N9vVzsM6k7wQAgBug/auY7y9I6ct2fa/L+a5sr4kUnszJkH3KjNvbKYisHXi9drn1Q1m6b2eGR2TcPozEe7/0FOslSq8g5Wjc4JBM5XIiX85sj9KQzG34YwonHqr9bUtOSp9q6xoaib+rtNty91ct81inLfflIEMvV/X9ilRWy7XPWGlnPYYeYxelUSdkYT0nFXeYwf0l2XpU+8ZleEpmZu1jj/58tmRuOJgz733vVE6D2ZTrKchitIyb3o1J9T7196HHDtb2qR2mt3L6VBZPTtT+j9pnAQC4mdoPEE2QJbL/R1IaLSejP9iHnmM5yxKYDM/Jlr1SN5oaBQOt6JStfagNPdqSk41aEFuX1pwv2le6r/1tVeT0m32Y1lre39Z0kP7sCjewq0ubT8rKnn3JMy4jbiCmAkL/gp+062lOf7+H6yIr0+F62kzRNzUkI/fUt7I8Kdt3DmPvQx0FdwgUAQA3UwcBoq6EF2V8+Z0c2PnWYsFBvzjalMllkdInJxDVPZ690NG2GgXeTURX17pTZ71lkSjo1uP43Ct59XQopcQexGa6tZ6AaQTY9QTBYveDxNE7qpXk9Wgq5weyv5eTmQfOcwAA3CAdBYg61Ti1WpR9t0vKpAQrsvLKvSCgKpvzRcmtL3g9LN1i0rjtpE0bCvb3aqTZlr3wYXUxU2Bn0rdr+YSLZDp0visvliuxYQS+i48v2ur5i+vWeoYezKjwOklnF6noRlJBipKPhj60910BANBPOgwQgzFtsudGiHpMl70XXJQmzMvx+qE/tqyb7i9JeVUFpVE6MenK4Sb0eEod1EZ/vy2jOyU/oHDGQ/pXTWcMLFJsKxi3qIIOuz2dZt3PHfrpdecK5/yamo9Syc7V2Tp9u6PCl/lwPXbKfCWz4qaqp/dl5tOJM7ZRfedPgmA0XGby62IbN/Du1npU2B2/gnl6RcZ3utRz6tH3xSxLIdrnSVm5547XBADg5vlOX6liHwMJdA8bQQ8AALdJxz2IAAAAGCwEiAAAAPCQYgYAAICHHkQAAAB4CBABAADgIUAEAACAhwARAAAAHgJEAAAAeAgQAQAA4CFABAAAgIcAEQAAAB4CRAAAAHgIEAEAAOAhQAQAAICHABEAAAAeAkQAAAB4CBABAADgIUAEAACAhwARAAAAHgJEAAAAeAgQAQAA4PnuUrGPW9ocG5OifZxo9hf5ae+1/GZnE/39n/K3//5L/mdnEz15Lrm3b6RiZxN1aZm//vGjfP+fz3Yu2U+/5OS310231LVlFh6LvHtvZxLl5JcnFXn91s4m6tYyP8r//fVZ/v29nU2S5jvv1jJXWHYoF3Y20e0tF/1WdigXTVDX2Llkt7bsdKtcrJbl5PmEnRlMmQJEAAAADD5SzAAAAPAQIAIAAMBDgAgAAAAPASIAAAA8BIgAAADwECACAADAQ4AIAAAADwEiAAAAPASIAAAAcIj8f0OeJN1voxOZAAAAAElFTkSuQmCC)"
      ],
      "metadata": {
        "id": "JayRfo3v06XZ"
      }
    },
    {
      "cell_type": "code",
      "source": [
        "%tensorboard --logdir logs/fit"
      ],
      "metadata": {
        "id": "NLSLkyMv09hT"
      },
      "execution_count": null,
      "outputs": []
    },
    {
      "cell_type": "code",
      "source": [
        "%load_ext tensorboard"
      ],
      "metadata": {
        "id": "dmU5l4QZ1BHA"
      },
      "execution_count": null,
      "outputs": []
    },
    {
      "cell_type": "markdown",
      "source": [
        "Make Predictions"
      ],
      "metadata": {
        "id": "94dxJ6Z71ILY"
      }
    },
    {
      "cell_type": "code",
      "source": [
        "res = model.predict(X_test)"
      ],
      "metadata": {
        "id": "phYPwlcN1Iux"
      },
      "execution_count": null,
      "outputs": []
    },
    {
      "cell_type": "code",
      "source": [
        "actions[np.argmax(res[3])] # thankyou"
      ],
      "metadata": {
        "id": "iafL8kV31Jy4"
      },
      "execution_count": null,
      "outputs": []
    },
    {
      "cell_type": "code",
      "source": [
        "actions[np.argmax(y_test[3])] # thankyou"
      ],
      "metadata": {
        "id": "cqcVYhBl1LN4"
      },
      "execution_count": null,
      "outputs": []
    },
    {
      "cell_type": "markdown",
      "source": [
        "Save Weights"
      ],
      "metadata": {
        "id": "NdXbXWgh1P2c"
      }
    },
    {
      "cell_type": "code",
      "source": [
        "model.save('action1.h5')"
      ],
      "metadata": {
        "id": "fUA88aKe1RAr"
      },
      "execution_count": null,
      "outputs": []
    },
    {
      "cell_type": "code",
      "source": [
        "model.load_weights('action1.h5') # load when restart model"
      ],
      "metadata": {
        "id": "Q5FaUiS41SMn"
      },
      "execution_count": null,
      "outputs": []
    },
    {
      "cell_type": "markdown",
      "source": [
        "Evaluation using Confusion Matrix and Accuracy"
      ],
      "metadata": {
        "id": "2O7Uaidp1Z0Z"
      }
    },
    {
      "cell_type": "code",
      "source": [
        "from sklearn.metrics import multilabel_confusion_matrix, accuracy_score"
      ],
      "metadata": {
        "id": "ikrAuP_j1aLv"
      },
      "execution_count": null,
      "outputs": []
    },
    {
      "cell_type": "code",
      "source": [
        "yhat = model.predict(X_test)"
      ],
      "metadata": {
        "id": "jqTjT2RE1bg4"
      },
      "execution_count": null,
      "outputs": []
    },
    {
      "cell_type": "code",
      "source": [
        "ytrue = np.argmax(y_test, axis=1).tolist()\n",
        "yhat = np.argmax(yhat, axis=1).tolist()"
      ],
      "metadata": {
        "id": "f-eE8b3q1gWo"
      },
      "execution_count": null,
      "outputs": []
    },
    {
      "cell_type": "code",
      "source": [
        "multilabel_confusion_matrix(ytrue, yhat)"
      ],
      "metadata": {
        "id": "8v-emFQN1hzo"
      },
      "execution_count": null,
      "outputs": []
    },
    {
      "cell_type": "code",
      "source": [
        "accuracy_score(ytrue, yhat) # prints accuracy"
      ],
      "metadata": {
        "id": "gf_bz0VM1ivo"
      },
      "execution_count": null,
      "outputs": []
    },
    {
      "cell_type": "markdown",
      "source": [
        "Test in Real Time"
      ],
      "metadata": {
        "id": "qpbPWS3e1ub6"
      }
    },
    {
      "cell_type": "code",
      "source": [
        "colors = [(245,117,16), (117,245,16), (16,117,245)]\n",
        "def prob_viz(res, actions, input_frame, colors):\n",
        "    output_frame = input_frame.copy()\n",
        "    for num, prob in enumerate(res):\n",
        "        cv2.rectangle(output_frame, (0,60+num*40), (int(prob*100), 90+num*40), colors[num], -1)\n",
        "        cv2.putText(output_frame, actions[num], (0, 85+num*40), cv2.FONT_HERSHEY_SIMPLEX, 1, (255,255,255), 2, cv2.LINE_AA)\n",
        "        \n",
        "    return output_frame"
      ],
      "metadata": {
        "id": "LmVBEzje1vTq"
      },
      "execution_count": null,
      "outputs": []
    },
    {
      "cell_type": "code",
      "source": [
        "# new detection variables\n",
        "sequence = []\n",
        "sentence = []\n",
        "predictions =[]\n",
        "threshold = 0.8\n",
        "\n",
        "cap = cv2.VideoCapture(-1)\n",
        "\n",
        "with mp_holistic.Holistic(min_detection_confidence=0.5, min_tracking_confidence=0.5) as holistic:\n",
        "    while cap.isOpened():\n",
        "\n",
        "        ret, frame = cap.read()\n",
        "\n",
        "       \n",
        "        image, results = mediapipe_detection(frame, holistic)\n",
        "        print(results)\n",
        "        \n",
        "     \n",
        "        draw_styled_landmarks(image, results)\n",
        "        \n",
        "        # Prediction logic\n",
        "        keypoints = extract_keypoints(results)\n",
        "#         sequence.insert(0,keypoints)\n",
        "#         sequence = sequence[:30]\n",
        "        sequence.append(keypoints)\n",
        "        sequence = sequence[-30:]\n",
        "        \n",
        "        if len(sequence) == 30:\n",
        "            res = model.predict(np.expand_dims(sequence, axis=0))[0]\n",
        "            print(actions[np.argmax(res)])\n",
        "            predictions.append(np.argmax(res))\n",
        "            \n",
        "            \n",
        "        #3. Viz logic\n",
        "            if np.unique(predictions[-10:])[0]==np.argmax(res): \n",
        "                if res[np.argmax(res)] > threshold: \n",
        "                    if len(sentence) > 0: \n",
        "                        if actions[np.argmax(res)] != sentence[-1]:\n",
        "                            sentence.append(actions[np.argmax(res)])\n",
        "                    else:\n",
        "                        sentence.append(actions[np.argmax(res)])\n",
        "\n",
        "            if len(sentence) > 5: \n",
        "                sentence = sentence[-5:]\n",
        "\n",
        "            # Viz probabilities\n",
        "            image = prob_viz(res, actions, image, colors)\n",
        "            \n",
        "        cv2.rectangle(image, (0,0), (640, 40), (245, 117, 16), -1)\n",
        "        cv2.putText(image, ' '.join(sentence), (3,30), \n",
        "                       cv2.FONT_HERSHEY_SIMPLEX, 1, (255, 255, 255), 2, cv2.LINE_AA)\n",
        "        \n",
        "        \n",
        "        cv2.imshow('OpenCV Feed', image)\n",
        "\n",
        "       \n",
        "        if cv2.waitKey(10) & 0xFF == ord('q'):\n",
        "            break\n",
        "    cap.release()\n",
        "    cv2.destroyAllWindows()"
      ],
      "metadata": {
        "id": "yZ3CT5ZN1w3Q"
      },
      "execution_count": null,
      "outputs": []
    },
    {
      "cell_type": "code",
      "source": [
        "cap.release()\n",
        "cv2.destroyAllWindows()"
      ],
      "metadata": {
        "id": "qJNThft711aY"
      },
      "execution_count": null,
      "outputs": []
    }
  ]
}